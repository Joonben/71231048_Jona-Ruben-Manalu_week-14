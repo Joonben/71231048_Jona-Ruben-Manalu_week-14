{
 "cells": [
  {
   "cell_type": "code",
   "execution_count": 3,
   "id": "71add05f",
   "metadata": {},
   "outputs": [
    {
     "name": "stdout",
     "output_type": "stream",
     "text": [
      "Masukkan angka :5\n",
      "Ini bilangan prima\n"
     ]
    },
    {
     "data": {
      "text/plain": [
       "True"
      ]
     },
     "execution_count": 3,
     "metadata": {},
     "output_type": "execute_result"
    }
   ],
   "source": [
    "#latihan mandiri 13.1\n",
    "def cek_bilangan_prima(x, y = None):\n",
    "    if y is None:\n",
    "        y = x - 1\n",
    "    while y >= 2:\n",
    "        if x % y == 0:\n",
    "            print(\"Bukan bilangan prima\")\n",
    "            return False\n",
    "        else:\n",
    "            return cekbilprim(x, y - 1)\n",
    "    else:\n",
    "        print(\"Ini bilangan prima\")\n",
    "        return True\n",
    "        \n",
    "x = int(input(\"Masukkan angka :\"))\n",
    "cek_bilangan_prima(x)"
   ]
  },
  {
   "cell_type": "code",
   "execution_count": 6,
   "id": "ce0e4af7",
   "metadata": {},
   "outputs": [
    {
     "name": "stdout",
     "output_type": "stream",
     "text": [
      "Masukkan kata :katak\n",
      "Palindrom\n"
     ]
    }
   ],
   "source": [
    "#latihan mandiri 13.2\n",
    "def palindrom(s):\n",
    "    if len(s) < 1:\n",
    "        return True\n",
    "    else:\n",
    "        if s[0] == s[-1]:\n",
    "            return palindrom(s[1:-1])\n",
    "        else:\n",
    "            return False\n",
    "            \n",
    "s = str(input(\"Masukkan kata :\"))\n",
    "if(palindrom(s) == True):\n",
    "    print(\"Palindrom\")\n",
    "else:\n",
    "    print(\"Bukan Palindrom\")"
   ]
  },
  {
   "cell_type": "code",
   "execution_count": 8,
   "id": "50c8f951",
   "metadata": {},
   "outputs": [
    {
     "name": "stdout",
     "output_type": "stream",
     "text": [
      "Masukkan limit bilangan (n) :12\n",
      "Jumlah bilangan ganjil dalam rentang : 36\n"
     ]
    }
   ],
   "source": [
    "#latihan mandiri 13.3\n",
    "def deret(n1,n2):\n",
    "    if n1 > n2:\n",
    "        return 0\n",
    "    return n1 + deret(n1 + 2,n2)\n",
    "\n",
    "n1 = 1\n",
    "n2 = int(input(\"Masukkan limit bilangan (n) :\"))\n",
    "print(\"Jumlah bilangan ganjil dalam rentang :\",deret(n1,n2))"
   ]
  },
  {
   "cell_type": "code",
   "execution_count": 14,
   "id": "4605c6e8",
   "metadata": {},
   "outputs": [
    {
     "name": "stdout",
     "output_type": "stream",
     "text": [
      "Masukkan angka :234\n",
      "9\n"
     ]
    }
   ],
   "source": [
    "#latihan mandiri 13.4\n",
    "def jumlahangka(n):\n",
    "    m = len(n)-1\n",
    "    if m == 0:\n",
    "        return n\n",
    "    else:\n",
    "        o = int(n[-1])\n",
    "        n = n[:-1]\n",
    "        return o + int(jumlahangka(n))\n",
    "\n",
    "n = (input(\"Masukkan angka :\"))\n",
    "print(jumlahangka(n))"
   ]
  },
  {
   "cell_type": "code",
   "execution_count": 13,
   "id": "9ebe1bc1",
   "metadata": {},
   "outputs": [
    {
     "name": "stdout",
     "output_type": "stream",
     "text": [
      "Masukkan angka 1 :9\n",
      "Masukkan angka 2 :5\n",
      "126.0\n"
     ]
    }
   ],
   "source": [
    "#latihan mandiri 13.5\n",
    "def permutasi(angka_1, angka_2):\n",
    "    if (angka_2 == 0 ):\n",
    "        return 1\n",
    "    else:\n",
    "        int(angka_1-angka_2+1)\n",
    "        return (permutasi(angka_1,angka_2-1) * (angka_1-angka_2+1))\n",
    "\n",
    "def kombinasi(angka_1, angka_2):\n",
    "    if angka_2 == 0:\n",
    "        return 1\n",
    "    else:\n",
    "        int((angka_1-angka_2+1)/ angka_2) \n",
    "        return (kombinasi(angka_1,angka_2-1) * (angka_1-angka_2+1) / (angka_2))\n",
    "\n",
    "angka_1 = int((input(\"Masukkan angka 1 :\")))\n",
    "angka_2 = int((input(\"Masukkan angka 2 :\")))\n",
    "\n",
    "permutasi(angka_1, angka_2) \n",
    "print(kombinasi(angka_1, angka_2))"
   ]
  }
 ],
 "metadata": {
  "kernelspec": {
   "display_name": "Python 3 (ipykernel)",
   "language": "python",
   "name": "python3"
  },
  "language_info": {
   "codemirror_mode": {
    "name": "ipython",
    "version": 3
   },
   "file_extension": ".py",
   "mimetype": "text/x-python",
   "name": "python",
   "nbconvert_exporter": "python",
   "pygments_lexer": "ipython3",
   "version": "3.11.5"
  }
 },
 "nbformat": 4,
 "nbformat_minor": 5
}
